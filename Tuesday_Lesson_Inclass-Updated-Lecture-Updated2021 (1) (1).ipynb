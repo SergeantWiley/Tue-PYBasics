# Use the following list - [1,11,14,5,8,9]
def list_function(list):
    new_list = []
    for i in list:
        if i < 10:
            new_list.append(i)
    return new_list
list = [1,11,14,5,8,9]
print(list_function(list))
